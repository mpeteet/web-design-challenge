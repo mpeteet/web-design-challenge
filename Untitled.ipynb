{
 "cells": [
  {
   "cell_type": "markdown",
   "id": "worse-prior",
   "metadata": {},
   "source": [
    "### This is the code to tranform a CSV data file to html"
   ]
  },
  {
   "cell_type": "code",
   "execution_count": 2,
   "id": "metallic-classic",
   "metadata": {},
   "outputs": [],
   "source": [
    "import pandas as pd"
   ]
  },
  {
   "cell_type": "code",
   "execution_count": 1,
   "id": "failing-samuel",
   "metadata": {},
   "outputs": [],
   "source": [
    "csv_path = \"resources/weather_df.csv\""
   ]
  },
  {
   "cell_type": "code",
   "execution_count": null,
   "id": "resistant-province",
   "metadata": {},
   "outputs": [],
   "source": []
  },
  {
   "cell_type": "code",
   "execution_count": null,
   "id": "consolidated-sitting",
   "metadata": {},
   "outputs": [],
   "source": []
  },
  {
   "cell_type": "code",
   "execution_count": null,
   "id": "surrounded-blocking",
   "metadata": {},
   "outputs": [],
   "source": []
  },
  {
   "cell_type": "code",
   "execution_count": null,
   "id": "varied-judgment",
   "metadata": {},
   "outputs": [],
   "source": []
  }
 ],
 "metadata": {
  "kernelspec": {
   "display_name": "Python 3",
   "language": "python",
   "name": "python3"
  },
  "language_info": {
   "codemirror_mode": {
    "name": "ipython",
    "version": 3
   },
   "file_extension": ".py",
   "mimetype": "text/x-python",
   "name": "python",
   "nbconvert_exporter": "python",
   "pygments_lexer": "ipython3",
   "version": "3.8.5"
  }
 },
 "nbformat": 4,
 "nbformat_minor": 5
}

{
 "cells": [
  {
   "cell_type": "markdown",
   "id": "entire-finder",
   "metadata": {},
   "source": [
    "### This is the code to tranform a CSV data file to html"
   ]
  },
  {
   "cell_type": "code",
   "execution_count": 2,
   "id": "metallic-classic",
   "metadata": {},
   "outputs": [],
   "source": [
    "import pandas as pd"
   ]
  },
  {
   "cell_type": "code",
   "execution_count": 8,
   "id": "joint-broadcasting",
   "metadata": {},
   "outputs": [
    {
     "data": {
      "text/html": [
       "<div>\n",
       "<style scoped>\n",
       "    .dataframe tbody tr th:only-of-type {\n",
       "        vertical-align: middle;\n",
       "    }\n",
       "\n",
       "    .dataframe tbody tr th {\n",
       "        vertical-align: top;\n",
       "    }\n",
       "\n",
       "    .dataframe thead th {\n",
       "        text-align: right;\n",
       "    }\n",
       "</style>\n",
       "<table border=\"1\" class=\"dataframe\">\n",
       "  <thead>\n",
       "    <tr style=\"text-align: right;\">\n",
       "      <th></th>\n",
       "      <th>Unnamed: 0</th>\n",
       "      <th>City</th>\n",
       "      <th>Country</th>\n",
       "      <th>Date</th>\n",
       "      <th>Latitude</th>\n",
       "      <th>Longitude</th>\n",
       "      <th>Cloudiness (%)</th>\n",
       "      <th>Humidity (%)</th>\n",
       "      <th>Max Temp (F)</th>\n",
       "      <th>Wind Speed (mph)</th>\n",
       "    </tr>\n",
       "  </thead>\n",
       "  <tbody>\n",
       "    <tr>\n",
       "      <th>0</th>\n",
       "      <td>0</td>\n",
       "      <td>rikitea</td>\n",
       "      <td>PF</td>\n",
       "      <td>2021-01-24 15:43:16</td>\n",
       "      <td>-23.1203</td>\n",
       "      <td>-134.9692</td>\n",
       "      <td>0.0</td>\n",
       "      <td>67.0</td>\n",
       "      <td>80.312</td>\n",
       "      <td>4.19</td>\n",
       "    </tr>\n",
       "    <tr>\n",
       "      <th>1</th>\n",
       "      <td>1</td>\n",
       "      <td>atuona</td>\n",
       "      <td>PF</td>\n",
       "      <td>2021-01-24 15:43:16</td>\n",
       "      <td>-9.8000</td>\n",
       "      <td>-139.0333</td>\n",
       "      <td>8.0</td>\n",
       "      <td>77.0</td>\n",
       "      <td>78.386</td>\n",
       "      <td>6.40</td>\n",
       "    </tr>\n",
       "    <tr>\n",
       "      <th>2</th>\n",
       "      <td>2</td>\n",
       "      <td>hamilton</td>\n",
       "      <td>US</td>\n",
       "      <td>2021-01-24 15:42:34</td>\n",
       "      <td>39.1834</td>\n",
       "      <td>-84.5333</td>\n",
       "      <td>90.0</td>\n",
       "      <td>93.0</td>\n",
       "      <td>33.278</td>\n",
       "      <td>2.06</td>\n",
       "    </tr>\n",
       "    <tr>\n",
       "      <th>3</th>\n",
       "      <td>3</td>\n",
       "      <td>marfino</td>\n",
       "      <td>RU</td>\n",
       "      <td>2021-01-24 15:43:16</td>\n",
       "      <td>55.7028</td>\n",
       "      <td>37.3822</td>\n",
       "      <td>75.0</td>\n",
       "      <td>100.0</td>\n",
       "      <td>38.264</td>\n",
       "      <td>4.00</td>\n",
       "    </tr>\n",
       "    <tr>\n",
       "      <th>4</th>\n",
       "      <td>4</td>\n",
       "      <td>cortez</td>\n",
       "      <td>US</td>\n",
       "      <td>2021-01-24 15:43:16</td>\n",
       "      <td>37.3489</td>\n",
       "      <td>-108.5859</td>\n",
       "      <td>90.0</td>\n",
       "      <td>80.0</td>\n",
       "      <td>35.870</td>\n",
       "      <td>6.69</td>\n",
       "    </tr>\n",
       "  </tbody>\n",
       "</table>\n",
       "</div>"
      ],
      "text/plain": [
       "   Unnamed: 0      City Country                 Date  Latitude  Longitude  \\\n",
       "0           0   rikitea      PF  2021-01-24 15:43:16  -23.1203  -134.9692   \n",
       "1           1    atuona      PF  2021-01-24 15:43:16   -9.8000  -139.0333   \n",
       "2           2  hamilton      US  2021-01-24 15:42:34   39.1834   -84.5333   \n",
       "3           3   marfino      RU  2021-01-24 15:43:16   55.7028    37.3822   \n",
       "4           4    cortez      US  2021-01-24 15:43:16   37.3489  -108.5859   \n",
       "\n",
       "   Cloudiness (%)  Humidity (%)  Max Temp (F)  Wind Speed (mph)  \n",
       "0             0.0          67.0        80.312              4.19  \n",
       "1             8.0          77.0        78.386              6.40  \n",
       "2            90.0          93.0        33.278              2.06  \n",
       "3            75.0         100.0        38.264              4.00  \n",
       "4            90.0          80.0        35.870              6.69  "
      ]
     },
     "execution_count": 8,
     "metadata": {},
     "output_type": "execute_result"
    }
   ],
   "source": [
    "csv_path = \"resources/weather_df.csv\"\n",
    "\n",
    "weather_df = pd.read_csv(csv_path)\n",
    "weather_df.head()"
   ]
  },
  {
   "cell_type": "code",
   "execution_count": 12,
   "id": "vocal-raise",
   "metadata": {},
   "outputs": [],
   "source": [
    "#weather_df = weather_df.set_index(\"0\")\n",
    "#weather_df"
   ]
  },
  {
   "cell_type": "code",
   "execution_count": 13,
   "id": "higher-gossip",
   "metadata": {},
   "outputs": [],
   "source": [
    "# convert the data file to an html file\n",
    "weather_df.to_html('weather_cities.html')"
   ]
  },
  {
   "cell_type": "code",
   "execution_count": null,
   "id": "played-cement",
   "metadata": {},
   "outputs": [],
   "source": []
  },
  {
   "cell_type": "code",
   "execution_count": null,
   "id": "demographic-aluminum",
   "metadata": {},
   "outputs": [],
   "source": []
  }
 ],
 "metadata": {
  "kernelspec": {
   "display_name": "Python 3",
   "language": "python",
   "name": "python3"
  },
  "language_info": {
   "codemirror_mode": {
    "name": "ipython",
    "version": 3
   },
   "file_extension": ".py",
   "mimetype": "text/x-python",
   "name": "python",
   "nbconvert_exporter": "python",
   "pygments_lexer": "ipython3",
   "version": "3.8.5"
  }
 },
 "nbformat": 4,
 "nbformat_minor": 5
}
